{
 "cells": [
  {
   "cell_type": "code",
   "execution_count": 4,
   "metadata": {},
   "outputs": [],
   "source": [
    "# ! pip install beautifulsoup4 requests pandas"
   ]
  },
  {
   "cell_type": "code",
   "execution_count": 20,
   "metadata": {},
   "outputs": [],
   "source": [
    "from bs4 import BeautifulSoup\n",
    "import random\n",
    "import requests as req\n",
    "import sys\n",
    "import pandas as pd\n",
    "import re\n",
    "\n",
    "import warnings\n",
    "warnings.filterwarnings('ignore')"
   ]
  },
  {
   "cell_type": "code",
   "execution_count": 8,
   "metadata": {
    "pycharm": {
     "name": "#%%\n"
    }
   },
   "outputs": [],
   "source": [
    "'''\n",
    "Function which takes an url, parse it, assign a random user agent and then make a soup.\n",
    "'''\n",
    "def url_soup(u):\n",
    "    try:\n",
    "        uas = (\"Mozilla/5.0 (Windows NT 6.1; WOW64; rv:40.0) Gecko/20100101 Firefox/40.1\",\n",
    "               \"Mozilla/5.0 (Windows NT 6.3; rv:36.0) Gecko/20100101 Firefox/36.0\",\n",
    "               \"Mozilla/5.0 (Macintosh; Intel Mac OS X 10_10; rv:33.0) Gecko/20100101 Firefox/33.0\",\n",
    "               \"Mozilla/5.0 (Windows NT 6.1) AppleWebKit/537.36 (KHTML, like Gecko) Chrome/41.0.2228.0 Safari/537.36\",\n",
    "               \"Mozilla/5.0 (Macintosh; Intel Mac OS X 10_10_1) AppleWebKit/537.36 (KHTML, like Gecko) Chrome/41.0.2227.1 Safari/537.36\",\n",
    "               \"Mozilla/5.0 (Windows NT 6.1; WOW64) AppleWebKit/537.36 (KHTML, like Gecko) Chrome/41.0.2227.0 Safari/537.36\")\n",
    "        ua = uas[random.randrange(len(uas))]\n",
    "        headers = {'user-agent': ua}\n",
    "        resp = req.get(u, headers=headers)\n",
    "        c = resp.content\n",
    "        soup = BeautifulSoup(c, features=\"html.parser\")\n",
    "        return soup\n",
    "    except req.exceptions.HTTPError as e:\n",
    "        print(e)\n",
    "        sys.exit(1)"
   ]
  },
  {
   "cell_type": "code",
   "execution_count": 16,
   "metadata": {},
   "outputs": [
    {
     "data": {
      "text/plain": [
       "'https'"
      ]
     },
     "execution_count": 16,
     "metadata": {},
     "output_type": "execute_result"
    }
   ],
   "source": [
    "x = 'https://www.elmostrador.cl/my-account/lost-password/'\n",
    "x[0:5]"
   ]
  },
  {
   "cell_type": "code",
   "execution_count": 21,
   "metadata": {
    "scrolled": false
   },
   "outputs": [
    {
     "name": "stdout",
     "output_type": "stream",
     "text": [
      "https://www.elmostrador.cl/dia/2022/04/07/china-advierte-de-que-tomara-medidas-energicas-si-pelosi-visita-taiwan/\n",
      "https://www.elmostrador.cl/dia/2022/04/07/china-advierte-de-que-tomara-medidas-energicas-si-pelosi-visita-taiwan/\n",
      "https://www.elmostrador.cl/dia/2022/04/07/rusia-prohibe-la-publicidad-de-google-y-sus-productos-en-el-pais/\n",
      "https://www.elmostrador.cl/dia/2022/04/07/rusia-prohibe-la-publicidad-de-google-y-sus-productos-en-el-pais/\n",
      "https://www.elmostrador.cl/dia/2022/04/07/zelenski-rusia-oculta-otros-crimenes-de-guerra-en-ucrania/\n",
      "https://www.elmostrador.cl/dia/2022/04/07/zelenski-rusia-oculta-otros-crimenes-de-guerra-en-ucrania/\n",
      "https://www.elmostrador.cl/noticias/mundo/2022/04/06/canada-propone-que-google-y-facebook-paguen-a-los-medios-de-comunicacion/\n",
      "https://www.elmostrador.cl/noticias/mundo/2022/04/06/ciudad-del-este-de-ucrania-se-vacia-mientras-los-residentes-temen-un-nuevo-asalto-ruso/\n",
      "https://www.elmostrador.cl/dia/2022/04/06/estados-unidos-sanciona-a-las-hijas-de-vladimir-putin/\n",
      "https://www.elmostrador.cl/dia/2022/04/06/lider-ultraderechista-ruso-zhirinovsky-muere-a-los-75-anos-recibe-tributo-de-putin/\n",
      "https://www.elmostrador.cl/dia/2022/04/06/imagenes-de-satelite-desmienten-version-rusa-sobre-bucha-segun-gobierno-aleman/\n",
      "https://www.elmostrador.cl/dia/2022/04/06/espana-pondra-fin-a-la-obligatoriedad-de-mascarillas-en-interiores-desde-el-20-de-abril/\n",
      "https://www.elmostrador.cl/noticias/multimedia/2022/04/06/la-casa-blanca-dara-otros-usd-100-millones-en-ayuda-militar-a-ucrania/\n",
      "https://www.elmostrador.cl/noticias/multimedia/2022/04/07/jornada-negra-para-los-chilenos-en-copas-internacionales-catolica-cayo-ante-talleres-por-libertadores-y-antofagasta-perdio-en-casa-frente-a-defensa-y-justicia-por-sudamericana/\n",
      "https://www.elmostrador.cl/noticias/multimedia/2022/04/07/jornada-negra-para-los-chilenos-en-copas-internacionales-catolica-cayo-ante-talleres-por-libertadores-y-antofagasta-perdio-en-casa-frente-a-defensa-y-justicia-por-sudamericana/\n",
      "https://www.elmostrador.cl/dia/2022/04/06/es-gravisimo-donde-estan-esas-personas-ministra-siches-denuncio-que-en-el-gobierno-de-pinera-un-avion-con-extranjeros-expulsados-del-pais-regreso-con-todos-abordo/\n",
      "https://www.elmostrador.cl/dia/2022/04/06/es-gravisimo-donde-estan-esas-personas-ministra-siches-denuncio-que-en-el-gobierno-de-pinera-un-avion-con-extranjeros-expulsados-del-pais-regreso-con-todos-abordo/\n",
      "https://www.elmostrador.cl/noticias/pais/2022/04/07/autozancadillas-de-ministra-iskia-siches-ponen-en-jaque-su-capital-politico/\n",
      "https://www.elmostrador.cl/noticias/pais/2022/04/07/autozancadillas-de-ministra-iskia-siches-ponen-en-jaque-su-capital-politico/\n",
      "https://www.elmostrador.cl/destacado/2022/04/07/gran-acuerdo-de-sistema-politico-pende-de-un-hilo-colectivo-socialista-comienza-a-mirar-para-el-lado/\n",
      "https://www.elmostrador.cl/destacado/2022/04/07/gran-acuerdo-de-sistema-politico-pende-de-un-hilo-colectivo-socialista-comienza-a-mirar-para-el-lado/\n",
      "https://www.elmostrador.cl/noticias/opinion/2022/04/07/la-dificil-realidad-de-las-escuelas-rurales/\n",
      "https://www.elmostrador.cl/noticias/opinion/2022/04/07/la-inflacion-en-tiempos-del-colera/\n",
      "https://www.elmostrador.cl/noticias/opinion/2022/04/07/derechos-a-la-naturaleza-y-a-la-replica/\n",
      "https://www.elmostrador.cl/destacado/2022/04/06/gabriela-salvador-en-la-mesa-la-industria-financiera-tendra-que-adaptarse-a-ser-mas-transparente-inclusiva-y-sustentable/\n",
      "https://www.elmostrador.cl/destacado/2022/04/06/gabriela-salvador-en-la-mesa-la-industria-financiera-tendra-que-adaptarse-a-ser-mas-transparente-inclusiva-y-sustentable/\n",
      "https://www.elmostrador.cl/noticias/2022/04/06/la-influencia-china-en-alza-chile-es-el-pais-del-cono-sur-con-el-mayor-flujo-de-inversion-proveniente-del-gigante-asiatico/\n",
      "https://www.elmostrador.cl/noticias/2022/04/06/la-influencia-china-en-alza-chile-es-el-pais-del-cono-sur-con-el-mayor-flujo-de-inversion-proveniente-del-gigante-asiatico/\n",
      "https://www.elmostrador.cl/tv/la-semana-politica-tv/2022/04/06/la-semana-politica-analizo-los-problemas-comunicacionales-del-gobierno-el-ejecutivo-pierde-permanentemente-el-control-de-la-agenda-politica/\n",
      "https://www.elmostrador.cl/tv/la-semana-politica-tv/2022/04/06/la-semana-politica-analizo-los-problemas-comunicacionales-del-gobierno-el-ejecutivo-pierde-permanentemente-el-control-de-la-agenda-politica/\n",
      "https://www.elmostrador.cl/noticias/2022/04/06/infectologo-oryan-abordo-nuevo-plan-paso-a-paso-y-flexibilizacion-de-la-mascarilla-esta-empieza-a-perder-relevancia-cuando-hay-menos-riesgos-de-circulacion-viral/\n",
      "https://www.elmostrador.cl/noticias/2022/04/06/infectologo-oryan-abordo-nuevo-plan-paso-a-paso-y-flexibilizacion-de-la-mascarilla-esta-empieza-a-perder-relevancia-cuando-hay-menos-riesgos-de-circulacion-viral/\n",
      "https://www.elmostrador.cl/dia/2022/04/07/estudio-demuestra-que-el-mdma-podria-ayudar-en-psicoterapias-contra-la-depresion/\n",
      "https://www.elmostrador.cl/dia/2022/04/07/estudio-demuestra-que-el-mdma-podria-ayudar-en-psicoterapias-contra-la-depresion/\n",
      "https://www.elmostrador.cl/destacado/2022/04/07/clasicos-rusos-al-despenadero-el-dano-colateral-de-la-guerra-de-ucrania-que-llego-a-la-corporacion-cultural-de-las-condes/\n",
      "https://www.elmostrador.cl/destacado/2022/04/07/clasicos-rusos-al-despenadero-el-dano-colateral-de-la-guerra-de-ucrania-que-llego-a-la-corporacion-cultural-de-las-condes/\n",
      "https://www.elmostrador.cl/noticias/multimedia/2022/04/07/jornada-negra-para-los-chilenos-en-copas-internacionales-catolica-cayo-ante-talleres-por-libertadores-y-antofagasta-perdio-en-casa-frente-a-defensa-y-justicia-por-sudamericana/\n",
      "https://www.elmostrador.cl/noticias/multimedia/2022/04/07/jornada-negra-para-los-chilenos-en-copas-internacionales-catolica-cayo-ante-talleres-por-libertadores-y-antofagasta-perdio-en-casa-frente-a-defensa-y-justicia-por-sudamericana/\n",
      "https://www.elmostrador.cl/noticias/deportes/2022/04/06/anfp-despide-a-javier-castrilli-como-presidente-de-la-comision-de-arbitros-tras-reunion-de-urgencia-del-consejo-de-presidentes/\n",
      "https://www.elmostrador.cl/noticias/deportes/2022/04/06/anfp-despide-a-javier-castrilli-como-presidente-de-la-comision-de-arbitros-tras-reunion-de-urgencia-del-consejo-de-presidentes/\n"
     ]
    }
   ],
   "source": [
    "url = 'https://www.elmostrador.cl/noticias/mundo/'\n",
    "soup = url_soup(url)\n",
    "\n",
    "for i in soup.find_all(\"a\", href=re.compile(\"2022\")):\n",
    "    try:\n",
    "        if i['href'][0:5] == 'https':\n",
    "            print(i['href'])\n",
    "        else:\n",
    "            pass\n",
    "    except:\n",
    "        pass"
   ]
  }
 ],
 "metadata": {
  "kernelspec": {
   "display_name": "Python 3",
   "language": "python",
   "name": "python3"
  },
  "language_info": {
   "codemirror_mode": {
    "name": "ipython",
    "version": 3
   },
   "file_extension": ".py",
   "mimetype": "text/x-python",
   "name": "python",
   "nbconvert_exporter": "python",
   "pygments_lexer": "ipython3",
   "version": "3.9.10"
  }
 },
 "nbformat": 4,
 "nbformat_minor": 1
}
